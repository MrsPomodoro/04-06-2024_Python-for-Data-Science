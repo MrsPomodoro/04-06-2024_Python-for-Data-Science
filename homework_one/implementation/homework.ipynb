{
 "cells": [
  {
   "cell_type": "markdown",
   "metadata": {},
   "source": [
    "# Prıprava dat\n",
    "## Zadanie: \n",
    "Načtěte dataset a ujistěte se, že rozumíte hodnotám ve sloupcích. Můžete změnit názvy sloupců a odstranit z nich mezery, což se vám může později hodit.\n",
    "\n",
    "## My solution\n",
    "1. using pandas function read_csv to load data\n",
    "2. preparing dataset by removing spaces in column names, renaming colums to use the same convention\n",
    "    -  calling attribute of the DataFrame *.columns*, that holds the column names\n",
    "    -  using StringMethods *str* that allows me applying string operations on the  array of column names\n",
    "        - using method *.strip()* to remove any spaces from each column name\n",
    "        - using method *.replace(' ', '_')* to replace each space with an underscore \n",
    "3. checking dataset \n",
    "    - calling method .head() to display the first 5 rows\n",
    "    - calling attribute .columns to display its column names\n"
   ]
  },
  {
   "cell_type": "code",
   "execution_count": 13,
   "metadata": {},
   "outputs": [
    {
     "data": {
      "text/plain": [
       "(   Serial_Number  GRE_Score  TOEFL_Score  University_Rating  SOP  LOR  CGPA  \\\n",
       " 0              1        337          118                  4  4.5  4.5  9.65   \n",
       " 1              2        324          107                  4  4.0  4.5  8.87   \n",
       " 2              3        316          104                  3  3.0  3.5  8.00   \n",
       " 3              4        322          110                  3  3.5  2.5  8.67   \n",
       " 4              5        314          103                  2  2.0  3.0  8.21   \n",
       " \n",
       "    Research  Chance_of_Admit  \n",
       " 0         1             0.92  \n",
       " 1         1             0.76  \n",
       " 2         1             0.72  \n",
       " 3         1             0.80  \n",
       " 4         0             0.65  ,\n",
       " Index(['Serial_Number', 'GRE_Score', 'TOEFL_Score', 'University_Rating', 'SOP',\n",
       "        'LOR', 'CGPA', 'Research', 'Chance_of_Admit'],\n",
       "       dtype='object'))"
      ]
     },
     "execution_count": 13,
     "metadata": {},
     "output_type": "execute_result"
    }
   ],
   "source": [
    "import pandas as pd # type: ignore\n",
    "\n",
    "data = pd.read_csv(\"data/adm_data.csv\")\n",
    "\n",
    "# Remove spaces from column names\n",
    "data.columns = data.columns.str.strip().str.replace(' ', '_')\n",
    "\n",
    "# Rename columns (same convention)\n",
    "column_mapping = {\n",
    "    'Serial_No.': 'Serial_Number',\n",
    "    'GRE_Score': 'GRE_Score',\n",
    "    'TOEFL_Score': 'TOEFL_Score',\n",
    "    'University_Rating': 'University_Rating',\n",
    "    'SOP': 'SOP',\n",
    "    'LOR_': 'LOR',\n",
    "    'CGPA': 'CGPA',\n",
    "    'Research': 'Research',\n",
    "    'Chance_of_Admit_': 'Chance_of_Admit'\n",
    "}\n",
    "data.rename(columns=column_mapping, inplace=True)\n",
    "\n",
    "# Check the new column names and first few rows of data\n",
    "data.head(), data.columns\n",
    "\n"
   ]
  },
  {
   "cell_type": "code",
   "execution_count": null,
   "metadata": {},
   "outputs": [],
   "source": []
  }
 ],
 "metadata": {
  "kernelspec": {
   "display_name": "Python 3",
   "language": "python",
   "name": "python3"
  },
  "language_info": {
   "codemirror_mode": {
    "name": "ipython",
    "version": 3
   },
   "file_extension": ".py",
   "mimetype": "text/x-python",
   "name": "python",
   "nbconvert_exporter": "python",
   "pygments_lexer": "ipython3",
   "version": "3.11.3"
  }
 },
 "nbformat": 4,
 "nbformat_minor": 2
}
